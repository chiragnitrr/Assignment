{
 "cells": [
  {
   "cell_type": "code",
   "execution_count": 1,
   "id": "3de1e65c-bc16-4140-a826-192f034e3a8a",
   "metadata": {},
   "outputs": [],
   "source": [
    "# Q1. Create one variable containing following type of data:\n",
    "# (i) string\n",
    "# (ii) list\n",
    "# (iii) float\n",
    "# (iv) tuple\n",
    "\n",
    "# Answer :\n",
    "my_string = \"Chirag Prajapati\"\n",
    "my_list = [1,2.65,\"python\",1+2j,True]\n",
    "a = 2.56\n",
    "my_tuple = (1,2.34,\"chirag\",False,3+8j)"
   ]
  },
  {
   "cell_type": "code",
   "execution_count": 2,
   "id": "7f25141a-1475-4dbe-9b46-2ef084847aba",
   "metadata": {},
   "outputs": [],
   "source": [
    "# Q2. Given are some following variables containing data:\n",
    "#(i) var1 = ''\n",
    "#(ii) var2 = '[DS, ML, Python]'\n",
    "#(iii) var3 = ['DS', 'ML', 'Python']\n",
    "#(iv) var4 = 1.\n",
    "# What will be the data type of the above given variable.\n",
    "\n",
    "# Anser: \n",
    "#     var1 is string\n",
    "#     var2 is string\n",
    "#     var3 is list\n",
    "#     var4 is float"
   ]
  },
  {
   "cell_type": "code",
   "execution_count": 3,
   "id": "969c84b0-7093-490b-b9ce-f9ea78e45d6a",
   "metadata": {},
   "outputs": [],
   "source": [
    "# Q3. Explain the use of the following operators using an example:\n",
    "# (i) /\n",
    "# (ii) %\n",
    "# (iii) //\n",
    "# (iv) **\n",
    "\n",
    "# Anser:\n",
    "#     (i) / is division operator it gives quotient when a number is divide by another number.\n",
    "#     Example : value of (5/2) is 2.5\n",
    "    \n",
    "#     (ii) % is modulus operator it gives remainder when a number is divide by another number.\n",
    "#     Example : value of (5 % 2) is 1\n",
    "    \n",
    "#     (iii) // is Floor division operator it gives only integer part of a quotient when a number is divide by another number.\n",
    "#     Example : value of (5 // 2) is 2\n",
    "    \n",
    "#     (iv) ** is Exponentiation operator it gives the value of an expression when some power is written on the base number.\n",
    "#     Example : value of ( 5**2 ) is 25"
   ]
  },
  {
   "cell_type": "code",
   "execution_count": 4,
   "id": "3331b615-0aae-491d-a1dc-cab8b81b8c04",
   "metadata": {},
   "outputs": [
    {
     "name": "stdout",
     "output_type": "stream",
     "text": [
      "1\n",
      "<class 'int'>\n",
      "48\n",
      "<class 'int'>\n",
      "6.89\n",
      "<class 'float'>\n",
      "9.352\n",
      "<class 'float'>\n",
      "chirag\n",
      "<class 'str'>\n",
      "prajapati\n",
      "<class 'str'>\n",
      "True\n",
      "<class 'bool'>\n",
      "False\n",
      "<class 'bool'>\n",
      "(2+5j)\n",
      "<class 'complex'>\n",
      "6j\n",
      "<class 'complex'>\n"
     ]
    }
   ],
   "source": [
    "# Q4. Create a list of length 10 of your choice containing multiple types of data. Using for loop print the\n",
    "# element and its data type.\n",
    "\n",
    "# Answer :\n",
    "    \n",
    "my_list = [1,48,6.89,9.352,\"chirag\",'prajapati',True,False,2+5j, 6j]\n",
    "for i in my_list :\n",
    "    print(i)\n",
    "    print(type(i))"
   ]
  },
  {
   "cell_type": "code",
   "execution_count": 15,
   "id": "b76b0703-d459-408d-ad41-32df179994de",
   "metadata": {},
   "outputs": [
    {
     "name": "stdout",
     "output_type": "stream",
     "text": [
      "3  times A is purely divisible by B\n"
     ]
    }
   ],
   "source": [
    "# Q5. Using a while loop, verify if the number A is purely divisible by number B and if so then how many\n",
    "# times it can be divisible.\n",
    "\n",
    "#Answer :\n",
    "A = 16\n",
    "B = 2\n",
    "count =0\n",
    "while A>B :\n",
    "    if A%B !=0 :\n",
    "        break\n",
    "    else :\n",
    "        A = A/B\n",
    "        count +=1\n",
    "print(count, \" times A is purely divisible by B\" )"
   ]
  },
  {
   "cell_type": "code",
   "execution_count": 7,
   "id": "ebdb7940-bda5-47aa-a1fd-3041394aca76",
   "metadata": {},
   "outputs": [
    {
     "name": "stdout",
     "output_type": "stream",
     "text": [
      "1  is not divisible by 3\n",
      "2  is not divisible by 3\n",
      "3  is divisible by 3\n",
      "4  is not divisible by 3\n",
      "5  is not divisible by 3\n",
      "6  is divisible by 3\n",
      "7  is not divisible by 3\n",
      "8  is not divisible by 3\n",
      "9  is divisible by 3\n",
      "10  is not divisible by 3\n",
      "11  is not divisible by 3\n",
      "12  is divisible by 3\n",
      "13  is not divisible by 3\n",
      "14  is not divisible by 3\n",
      "15  is divisible by 3\n",
      "16  is not divisible by 3\n",
      "17  is not divisible by 3\n",
      "18  is divisible by 3\n",
      "19  is not divisible by 3\n",
      "20  is not divisible by 3\n",
      "21  is divisible by 3\n",
      "22  is not divisible by 3\n",
      "23  is not divisible by 3\n",
      "24  is divisible by 3\n",
      "25  is not divisible by 3\n"
     ]
    }
   ],
   "source": [
    "# Q6. Create a list containing 25 int type data. Using for loop and if-else condition print if the element is\n",
    "# divisible by 3 or not.\n",
    "\n",
    "# Answer : \n",
    "    \n",
    "my_list =[1,2,3,4,5,6,7,8,9,10,11,12,13,14,15,16,17,18,19,20,21,22,23,24,25]\n",
    "for i in my_list :\n",
    "    if i%3==0 :\n",
    "        print(i, \" is divisible by 3\")\n",
    "    else :\n",
    "        print(i, \" is not divisible by 3\")"
   ]
  },
  {
   "cell_type": "code",
   "execution_count": 13,
   "id": "e6994b34-c745-424f-a13e-e96dbf82255c",
   "metadata": {},
   "outputs": [],
   "source": [
    "# Q7. What do you understand about mutable and immutable data types? Give examples for both showing\n",
    "# this property.\n",
    "\n",
    "# Answer :\n",
    "#     if we can modify a variable with the help of it's index than it is mutable data type and if we can't modify a variable with \n",
    "#     the help of its index value then it is immutable.\n",
    "    \n",
    "#     Example :\n",
    "\n",
    "#       my_str = \"pwskills\"\n",
    "#       my_list = [1,\"pw\",5.76, True]\n",
    "#       my_str[1] = 'x'\n",
    "#       my_list[2] = 90\n",
    "#         here line 3 will give error becuse string is immutable and we can't chage it after creating and in list we modify the values\n",
    "#         because it is mutable."
   ]
  }
 ],
 "metadata": {
  "kernelspec": {
   "display_name": "Python 3 (ipykernel)",
   "language": "python",
   "name": "python3"
  },
  "language_info": {
   "codemirror_mode": {
    "name": "ipython",
    "version": 3
   },
   "file_extension": ".py",
   "mimetype": "text/x-python",
   "name": "python",
   "nbconvert_exporter": "python",
   "pygments_lexer": "ipython3",
   "version": "3.10.8"
  }
 },
 "nbformat": 4,
 "nbformat_minor": 5
}
